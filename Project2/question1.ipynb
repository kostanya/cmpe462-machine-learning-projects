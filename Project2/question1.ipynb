{
 "cells": [
  {
   "cell_type": "code",
   "execution_count": 59,
   "metadata": {},
   "outputs": [],
   "source": [
    "import numpy as np\n",
    "import cv2 as cv\n",
    "from sklearn.preprocessing import StandardScaler\n",
    "from sklearn.decomposition import PCA\n",
    "from sklearn.svm import SVC\n",
    "from sklearn.metrics import accuracy_score\n",
    "\n",
    "y_train = np.load(\"orientations_train.npy\")\n",
    "y_test = np.load(\"orientations_test.npy\")\n",
    "\n",
    "test_size = 1000\n",
    "train_size = 10000\n",
    "image_length = 4096\n",
    "image_dim = 64\n",
    "\n",
    "def vectorize_images(filename, data_size):\n",
    "    X = np.empty(shape=(data_size, image_length))\n",
    "   \n",
    "    for i in range(data_size):     \n",
    "        img = cv.imread(\"{filename}/{i}.jpg\".format(filename = filename, i = i), cv.IMREAD_GRAYSCALE)\n",
    "        X[i] = img.flatten()\n",
    "        \n",
    "    return X\n",
    "\n",
    "X_train = vectorize_images(\"3dshapes_train\" ,train_size)\n",
    "X_test = vectorize_images(\"3dshapes_test\" ,test_size)"
   ]
  },
  {
   "cell_type": "markdown",
   "metadata": {},
   "source": [
    "__a)__ i)"
   ]
  },
  {
   "cell_type": "code",
   "execution_count": 60,
   "metadata": {},
   "outputs": [
    {
     "name": "stdout",
     "output_type": "stream",
     "text": [
      "Binary classification accuracy: 0.6062992125984252\n"
     ]
    }
   ],
   "source": [
    "# Select two orientations for binary classification\n",
    "train_orients_set = list(set(y_train))\n",
    "orient1 = train_orients_set[0]   # 0\n",
    "orient2 = train_orients_set[1]   # 1\n",
    "\n",
    "# Create binary label vector\n",
    "y_train_bin = np.empty(train_size)\n",
    "y_test_bin = np.empty(test_size)\n",
    "\n",
    "y_train_bin = np.delete(y_train, np.argwhere( (y_train != orient1) & (y_train != orient2) ))\n",
    "y_train_bin[y_train_bin == orient1] = 0\n",
    "y_train_bin[y_train_bin == orient2] = 1\n",
    "X_train_bin = X_train[(y_train == orient1) | (y_train == orient2)]\n",
    "\n",
    "y_test_bin = np.delete(y_test, np.argwhere( (y_test != orient1) & (y_test != orient2) ))\n",
    "y_test_bin[y_test_bin == orient1] = 0\n",
    "y_test_bin[y_test_bin == orient2] = 1\n",
    "X_test_bin = X_test[(y_test == orient1) | (y_test == orient2)]\n",
    "\n",
    "\"\"\"print(X_train_bin)\n",
    "print(len(X_train_bin))\n",
    "print(y_train_bin)\n",
    "print(len(y_train_bin))\n",
    "print(X_test)\n",
    "print(len(X_test))\"\"\"\n",
    "\n",
    "# Standardize the data\n",
    "scaler = StandardScaler()\n",
    "X_scaled_bin_train = scaler.fit_transform(X_train_bin)\n",
    "X_scaled_bin_test = scaler.transform(X_test_bin)\n",
    "\n",
    "# Apply PCA to extract principal components\n",
    "pca = PCA(n_components=10)  # n_components can be changed to extract more or fewer principal components as needed.\n",
    "X_pca_bin_train = pca.fit_transform(X_scaled_bin_train)\n",
    "X_pca_bin_test = pca.fit_transform(X_scaled_bin_test)\n",
    "\n",
    "# Train SVM classifier\n",
    "svm_bin = SVC(kernel='linear', C=0.1, random_state=42)\n",
    "svm_bin.fit(X_pca_bin_train, y_train_bin)\n",
    "\n",
    "# Predict labels for validation set\n",
    "y_pred_bin_test = svm_bin.predict(X_pca_bin_test)\n",
    "\n",
    "# Compute validation accuracy\n",
    "acc_bin_test = accuracy_score(y_test_bin, y_pred_bin_test)\n",
    "print(\"Binary classification accuracy:\", acc_bin_test)\n"
   ]
  },
  {
   "cell_type": "code",
   "execution_count": null,
   "metadata": {},
   "outputs": [],
   "source": []
  }
 ],
 "metadata": {
  "kernelspec": {
   "display_name": "Python 3 (ipykernel)",
   "language": "python",
   "name": "python3"
  },
  "language_info": {
   "codemirror_mode": {
    "name": "ipython",
    "version": 3
   },
   "file_extension": ".py",
   "mimetype": "text/x-python",
   "name": "python",
   "nbconvert_exporter": "python",
   "pygments_lexer": "ipython3",
   "version": "3.10.11"
  }
 },
 "nbformat": 4,
 "nbformat_minor": 2
}
