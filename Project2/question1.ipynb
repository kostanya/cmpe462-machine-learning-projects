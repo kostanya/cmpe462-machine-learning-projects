{
 "cells": [
  {
   "cell_type": "code",
   "execution_count": 131,
   "metadata": {},
   "outputs": [],
   "source": [
    "import numpy as np\n",
    "import cv2 as cv\n",
    "from sklearn.preprocessing import StandardScaler\n",
    "from sklearn.decomposition import PCA\n",
    "from sklearn.svm import SVC\n",
    "from sklearn.metrics import accuracy_score\n",
    "\n",
    "y_train = np.load(\"orientations_train.npy\")\n",
    "y_test = np.load(\"orientations_test.npy\")\n",
    "\n",
    "test_size = 1000\n",
    "train_size = 10000\n",
    "image_length = 4096\n",
    "image_dim = 64\n",
    "\n",
    "def vectorize_images(filename, data_size):\n",
    "    X = np.empty(shape=(data_size, image_length))\n",
    "   \n",
    "    for i in range(data_size):     \n",
    "        img = cv.imread(\"{filename}/{i}.jpg\".format(filename = filename, i = i), cv.IMREAD_GRAYSCALE)\n",
    "        X[i] = img.flatten()\n",
    "        \n",
    "    return X\n",
    "\n",
    "X_train = vectorize_images(\"3dshapes_train\" ,train_size)\n",
    "X_test = vectorize_images(\"3dshapes_test\" ,test_size)"
   ]
  },
  {
   "cell_type": "markdown",
   "metadata": {},
   "source": [
    "__a)__"
   ]
  },
  {
   "cell_type": "code",
   "execution_count": 132,
   "metadata": {},
   "outputs": [],
   "source": [
    "def apply_pca_and_svm(X_train, X_test, y_train):\n",
    "    # Standardize the data\n",
    "    scaler = StandardScaler()\n",
    "    X_scaled_train = scaler.fit_transform(X_train)\n",
    "    X_scaled_test = scaler.transform(X_test)\n",
    "\n",
    "    # Apply PCA to extract principal components\n",
    "    pca = PCA(n_components=10)        # n_components can be changed to extract more or fewer principal components as needed.\n",
    "    X_train_pca = pca.fit_transform(X_scaled_train)\n",
    "    X_test_pca = pca.fit_transform(X_scaled_test)\n",
    "\n",
    "    # Train SVM classifier\n",
    "    # C: regularization parameter of the SVM\n",
    "         # It controls the trade-off between achieving a low training error and a low testing error. \n",
    "         # A small value of C will result in a wider margin hyperplane and a larger number of support vectors. \n",
    "         # A large value of C will result in a a narrow margin hyperplane and smaller number of support vectors.\n",
    "         # In this case, we set C to 0.1, which means that we want to prioritize a wider margin hyperplane over a low training error.\n",
    "    # random_state : random seed\n",
    "    clf = SVC(kernel='linear', C=0.1, random_state=100)\n",
    "    clf.fit(X_train_pca, y_train)\n",
    "\n",
    "    # Predict labels for validation set\n",
    "    y_pred_test = clf.predict(X_test_pca)\n",
    "    return y_pred_test "
   ]
  },
  {
   "cell_type": "markdown",
   "metadata": {},
   "source": [
    "__a)__ i)"
   ]
  },
  {
   "cell_type": "code",
   "execution_count": 133,
   "metadata": {},
   "outputs": [
    {
     "name": "stdout",
     "output_type": "stream",
     "text": [
      "Binary classification accuracy: 0.6062992125984252\n"
     ]
    }
   ],
   "source": [
    "# Select two orientations for binary classification\n",
    "train_orients_set = list(set(y_train))\n",
    "orient1 = train_orients_set[0]   # 0\n",
    "orient2 = train_orients_set[1]   # 1\n",
    "\n",
    "# Create binary label vectors\n",
    "y_train_bin = np.empty(train_size)\n",
    "y_test_bin = np.empty(test_size)\n",
    "\n",
    "y_train_bin = np.delete(y_train, np.argwhere( (y_train != orient1) & (y_train != orient2) ))\n",
    "y_train_bin[y_train_bin == orient1] = 0\n",
    "y_train_bin[y_train_bin == orient2] = 1\n",
    "X_train_bin = X_train[(y_train == orient1) | (y_train == orient2)]\n",
    "\n",
    "y_test_bin = np.delete(y_test, np.argwhere( (y_test != orient1) & (y_test != orient2) ))\n",
    "y_test_bin[y_test_bin == orient1] = 0\n",
    "y_test_bin[y_test_bin == orient2] = 1\n",
    "X_test_bin = X_test[(y_test == orient1) | (y_test == orient2)]\n",
    "\n",
    "# Compute validation accuracy\n",
    "y_pred_bin_test = apply_pca_and_svm(X_train_bin, X_test_bin, y_train_bin)\n",
    "acc_bin_test = accuracy_score(y_test_bin, y_pred_bin_test)\n",
    "print(\"Binary classification accuracy:\", acc_bin_test)\n"
   ]
  },
  {
   "cell_type": "markdown",
   "metadata": {},
   "source": [
    "__a)__ ii)"
   ]
  },
  {
   "cell_type": "code",
   "execution_count": 134,
   "metadata": {},
   "outputs": [
    {
     "name": "stdout",
     "output_type": "stream",
     "text": [
      "15 class classification accuracy: 0.035\n"
     ]
    }
   ],
   "source": [
    "# Convert labels to integers from 1 to 15\n",
    "for i in range(len(train_orients_set)):\n",
    "    y_train[y_train == train_orients_set[i]] = i+1\n",
    "        \n",
    "test_orients_set = list(set(y_test))\n",
    "for i in range(len(test_orients_set)):\n",
    "    y_test[y_test == test_orients_set[i]] = i+1\n",
    "        \n",
    "# Compute validation accuracy\n",
    "y_pred_test = apply_pca_and_svm(X_train, X_test, y_train)\n",
    "acc_test = accuracy_score(y_test, y_pred_test)\n",
    "print(\"15 class classification accuracy:\", acc_test)"
   ]
  },
  {
   "cell_type": "code",
   "execution_count": null,
   "metadata": {},
   "outputs": [],
   "source": []
  }
 ],
 "metadata": {
  "kernelspec": {
   "display_name": "Python 3 (ipykernel)",
   "language": "python",
   "name": "python3"
  },
  "language_info": {
   "codemirror_mode": {
    "name": "ipython",
    "version": 3
   },
   "file_extension": ".py",
   "mimetype": "text/x-python",
   "name": "python",
   "nbconvert_exporter": "python",
   "pygments_lexer": "ipython3",
   "version": "3.10.11"
  }
 },
 "nbformat": 4,
 "nbformat_minor": 2
}
