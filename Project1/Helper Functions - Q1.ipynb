{
 "cells": [
  {
   "cell_type": "code",
   "execution_count": 1,
   "id": "living-friday",
   "metadata": {},
   "outputs": [],
   "source": [
    "import numpy as np\n",
    "import matplotlib.pyplot as plt\n",
    "from mpl_toolkits import mplot3d"
   ]
  },
  {
   "cell_type": "code",
   "execution_count": 2,
   "id": "contemporary-average",
   "metadata": {},
   "outputs": [],
   "source": [
    "def sample_sphere(r=1, npoints=1000):\n",
    "    dr = np.random.rand(npoints,1)\n",
    "    theta = 2*np.pi*np.random.rand(npoints,1)\n",
    "    x = dr * np.cos(theta)\n",
    "    y = dr * np.sin(theta)\n",
    "    return np.hstack((x,y))"
   ]
  },
  {
   "cell_type": "code",
   "execution_count": 3,
   "id": "changing-dream",
   "metadata": {},
   "outputs": [],
   "source": [
    "def create_dataset(npoints=1000):\n",
    "    points = sample_sphere(npoints=npoints) \n",
    "    points = np.hstack((np.ones(npoints).reshape(npoints,1), points))\n",
    "    labels = np.sign(points[:, 2])\n",
    "    return points, labels"
   ]
  }
 ],
 "metadata": {
  "kernelspec": {
   "display_name": "Python 3",
   "language": "python",
   "name": "python3"
  },
  "language_info": {
   "codemirror_mode": {
    "name": "ipython",
    "version": 3
   },
   "file_extension": ".py",
   "mimetype": "text/x-python",
   "name": "python",
   "nbconvert_exporter": "python",
   "pygments_lexer": "ipython3",
   "version": "3.7.10"
  }
 },
 "nbformat": 4,
 "nbformat_minor": 5
}
