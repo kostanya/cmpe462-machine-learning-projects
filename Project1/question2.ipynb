{
 "cells": [
  {
   "cell_type": "markdown",
   "id": "a6d14e64",
   "metadata": {},
   "source": [
    "__(a)__ Below you can find the function to convert the images into grayscaled and flattened vectors with the help of Pillow library. Later we will use this function to convert the images in the _3dshapes_train_ and _3dshapes_test_."
   ]
  },
  {
   "cell_type": "code",
   "execution_count": 10,
   "id": "d63ec8d3",
   "metadata": {
    "scrolled": false
   },
   "outputs": [],
   "source": [
    "import numpy as np\n",
    "from PIL import Image       \n",
    "import math\n",
    "\n",
    "y_train = np.load(\"orientations_train.npy\")\n",
    "\n",
    "train_size = 10000\n",
    "image_length = 4096\n",
    "\n",
    "def vectorize_images(filename, data_size):\n",
    "    # vectorized 10000 images\n",
    "    X = np.empty(shape=(data_size, image_length))\n",
    "\n",
    "    for i in range(data_size):\n",
    "        img_rgb = Image.open(\"{filename}/{i}.jpg\".format(filename = filename, i = i))\n",
    "        img_gray = img_rgb.convert('L')\n",
    "\n",
    "        np_img = np.array(img_gray)\n",
    "        X[i] = np_img.flatten()\n",
    "        \n",
    "    return X\n",
    "\n",
    "X_train = vectorize_images(\"3dshapes_train\" ,train_size)\n",
    "    "
   ]
  },
  {
   "cell_type": "markdown",
   "id": "d3f8a7f2",
   "metadata": {},
   "source": [
    "__(b)__ In order to find the optimal weight vector coefficients, we set the gradient of the least square error function to 0. The closed-form solution we obtain is as follows: <br>\n",
    "\n",
    "$ \\mathbf{w}^* = {({X}^\\intercal X)}^{-1}{X}^\\intercal \\mathbf{t} $ <br>\n",
    "\n",
    "Below we implemented the function to calculate the optimal weights and used it to train the model. <br> <br>\n",
    "To test our model we first generated our predictions using the formula: $ \\hat{y} = Xw = X{({X}^\\intercal X)}^{-1}{X}^\\intercal \\mathbf{t} $ and then compared it with the actual labels."
   ]
  },
  {
   "cell_type": "code",
   "execution_count": 11,
   "id": "659bfc98",
   "metadata": {},
   "outputs": [],
   "source": [
    "# computing the optimal parameters by minimizing the least squares error function\n",
    "def linear_regression(X, y):\n",
    "    return np.linalg.pinv(X.T @ X) @ X.T @ y\n",
    "\n",
    "w = linear_regression(X_train, y_train)"
   ]
  },
  {
   "cell_type": "code",
   "execution_count": 12,
   "id": "f7bb3b85",
   "metadata": {},
   "outputs": [
    {
     "name": "stdout",
     "output_type": "stream",
     "text": [
      "Root Mean Square Error is: 0.23033949408208762\n"
     ]
    }
   ],
   "source": [
    "y_test = np.load(\"orientations_test.npy\")\n",
    "test_size = 1000\n",
    "\n",
    "X_test = vectorize_images(\"3dshapes_test\" ,test_size)\n",
    "y_prediction = X_test @ w\n",
    "\n",
    "RMSE = math.sqrt(np.square(np.subtract(y_test, y_prediction)).mean()) \n",
    "\n",
    "print(f\"Root Mean Square Error is: {RMSE}\")\n"
   ]
  },
  {
   "cell_type": "code",
   "execution_count": 13,
   "id": "ac9584a4",
   "metadata": {},
   "outputs": [
    {
     "ename": "NameError",
     "evalue": "name 'cv2' is not defined",
     "output_type": "error",
     "traceback": [
      "\u001b[1;31m---------------------------------------------------------------------------\u001b[0m",
      "\u001b[1;31mNameError\u001b[0m                                 Traceback (most recent call last)",
      "Cell \u001b[1;32mIn[13], line 5\u001b[0m\n\u001b[0;32m      1\u001b[0m \u001b[38;5;66;03m# Apply Fourier transform\u001b[39;00m\n\u001b[0;32m      3\u001b[0m x_train_extracted \u001b[38;5;241m=\u001b[39m np\u001b[38;5;241m.\u001b[39mzeros(shape\u001b[38;5;241m=\u001b[39m(train_size, \u001b[38;5;241m10\u001b[39m))\n\u001b[1;32m----> 5\u001b[0m image \u001b[38;5;241m=\u001b[39m cv2\u001b[38;5;241m.\u001b[39mimread(\u001b[38;5;124m'\u001b[39m\u001b[38;5;124mimage.jpg\u001b[39m\u001b[38;5;124m'\u001b[39m, \u001b[38;5;241m0\u001b[39m)\n\u001b[0;32m      7\u001b[0m f \u001b[38;5;241m=\u001b[39m np\u001b[38;5;241m.\u001b[39mfft\u001b[38;5;241m.\u001b[39mfft(X_train[\u001b[38;5;241m1\u001b[39m])\n\u001b[0;32m      8\u001b[0m fshift \u001b[38;5;241m=\u001b[39m np\u001b[38;5;241m.\u001b[39mfft\u001b[38;5;241m.\u001b[39mfftshift(f)\n",
      "\u001b[1;31mNameError\u001b[0m: name 'cv2' is not defined"
     ]
    }
   ],
   "source": [
    "# Apply Fourier transform\n",
    "\n",
    "x_train_extracted = np.zeros(shape=(train_size, 10))\n",
    "\n",
    "image = cv2.imread('image.jpg', 0)\n",
    "\n",
    "f = np.fft.fft(X_train[1])\n",
    "fshift = np.fft.fftshift(f)\n",
    "\n",
    "print(f[:50])\n",
    "print(fshift[:50])\n",
    "\n",
    "\n",
    "magnitude_spectrum = 20*np.log(np.abs(fshift))\n",
    "    \n",
    "\n",
    "# print(x_train_extracted)\n"
   ]
  },
  {
   "cell_type": "code",
   "execution_count": null,
   "id": "1201a14d",
   "metadata": {},
   "outputs": [],
   "source": []
  }
 ],
 "metadata": {
  "kernelspec": {
   "display_name": "Python 3 (ipykernel)",
   "language": "python",
   "name": "python3"
  },
  "language_info": {
   "codemirror_mode": {
    "name": "ipython",
    "version": 3
   },
   "file_extension": ".py",
   "mimetype": "text/x-python",
   "name": "python",
   "nbconvert_exporter": "python",
   "pygments_lexer": "ipython3",
   "version": "3.11.2"
  }
 },
 "nbformat": 4,
 "nbformat_minor": 5
}
