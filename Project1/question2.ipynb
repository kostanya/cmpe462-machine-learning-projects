{
 "cells": [
  {
   "cell_type": "code",
   "execution_count": 1,
   "id": "d63ec8d3",
   "metadata": {
    "scrolled": false
   },
   "outputs": [],
   "source": [
    "import numpy as np\n",
    "from PIL import Image       \n",
    "import math\n",
    "\n",
    "y_train = np.load(\"orientations_train.npy\")\n",
    "\n",
    "train_size = 10000\n",
    "image_length = 4096\n",
    "\n",
    "def vectorize_images(filename, data_size):\n",
    "    # vectorized 10000 images\n",
    "    X = np.empty(shape=(data_size, image_length))\n",
    "\n",
    "    for i in range(data_size):\n",
    "        img_rgb = Image.open(\"{filename}/{i}.jpg\".format(filename = filename, i = i))\n",
    "        img_gray = img_rgb.convert('L')\n",
    "\n",
    "        np_img = np.array(img_gray)\n",
    "        X[i] = np_img.flatten()\n",
    "        \n",
    "    return X\n",
    "\n",
    "X_train = vectorize_images(\"3dshapes_train\" ,train_size)\n",
    "    "
   ]
  },
  {
   "cell_type": "code",
   "execution_count": 3,
   "id": "659bfc98",
   "metadata": {},
   "outputs": [],
   "source": [
    "# computing the optimal parameters by minimizing the least squares error function\n",
    "def linear_regression(X, y):\n",
    "    return np.linalg.pinv(X.T @ X) @ X.T @ y\n",
    "\n",
    "w = linear_regression(X_train, y_train)"
   ]
  },
  {
   "cell_type": "code",
   "execution_count": 10,
   "id": "f7bb3b85",
   "metadata": {},
   "outputs": [
    {
     "name": "stdout",
     "output_type": "stream",
     "text": [
      "0.23033949408208762\n"
     ]
    }
   ],
   "source": [
    "y_test = np.load(\"orientations_test.npy\")\n",
    "test_size = 1000\n",
    "\n",
    "X_test = vectorize_images(\"3dshapes_test\" ,test_size)\n",
    "y_prediction = X_test @ w\n",
    "\n",
    "RMSE = math.sqrt(np.square(np.subtract(y_test, y_prediction)).mean()) \n",
    "\n",
    "'''for i in range(100):\n",
    "    print(y_test[i], end=' ')\n",
    "    print(y_prediction[i])\n",
    "'''\n",
    "\n",
    "print(RMSE)\n"
   ]
  },
  {
   "cell_type": "code",
   "execution_count": 16,
   "id": "ac9584a4",
   "metadata": {},
   "outputs": [
    {
     "name": "stdout",
     "output_type": "stream",
     "text": [
      "[ 4.48430000e+05+0.00000000e+00j  8.57993921e+04-1.08401587e+05j\n",
      " -1.13050704e+04-8.19191587e+04j -2.40667173e+04-1.40466855e+04j\n",
      "  1.58424682e+04-5.85701543e+03j  8.22575503e+03-2.67457625e+04j\n",
      " -1.43112322e+04-1.93879326e+04j -1.32081944e+03-6.41559031e+03j\n",
      "  7.71187527e+03-9.90642237e+03j -1.17066772e+02-1.62523213e+04j\n",
      " -2.52698187e+03-6.24479399e+03j  7.45918049e+02-2.98716243e+03j\n",
      "  6.37579424e+02-9.87433090e+03j -1.11355363e+03-7.95738669e+03j\n",
      " -8.12553471e+02-5.19618773e+03j  1.61694222e+03-6.51517342e+03j\n",
      "  2.13115786e+02-4.86541560e+03j -4.10473297e+02-4.76282704e+03j\n",
      "  4.25716248e+02-5.15693763e+03j -5.92623092e+02-4.29109493e+03j\n",
      " -3.93715366e+02-3.88697187e+03j  9.95474252e+02-4.52573704e+03j\n",
      " -3.14070100e+02-4.45006690e+03j -4.16450263e+02-3.52696185e+03j\n",
      "  7.58012765e+02-2.93330076e+03j  1.12345940e+02-3.81001201e+03j\n",
      " -4.81897654e+02-3.51338486e+03j -2.80092466e+02-2.59225853e+03j\n",
      "  4.11995253e+02-3.18278592e+03j  2.23905632e+02-3.56295386e+03j\n",
      " -4.26398714e+02-2.76938722e+03j  1.59756732e+02-2.55419935e+03j\n",
      "  4.95281524e+02-2.34078020e+03j -1.40203573e+02-2.90803325e+03j\n",
      " -4.44866633e+02-2.82806558e+03j -3.05713845e+02-1.78817647e+03j\n",
      "  7.59051549e+02-2.30859304e+03j  5.42257112e+02-3.59224708e+03j\n",
      " -1.36610836e+03-2.04228574e+03j  2.90256007e+02-5.88939467e+02j\n",
      "  2.01742904e+03-2.57508007e+03j -1.52782607e+03-3.92942363e+03j\n",
      " -2.06749507e+03-6.33935792e+02j  2.44081026e+03-9.10295381e+01j\n",
      "  1.73777366e+03-4.91279120e+03j -3.31397881e+03-3.40107305e+03j\n",
      " -5.70058240e+02+2.48934293e+03j  4.37344897e+03-1.59050925e+03j\n",
      " -7.25211528e+02-6.18369640e+03j -5.34210484e+03+2.28768231e+02j]\n",
      "[ 520.          +0.j         -293.25365198 +70.91753707j\n",
      "  365.86133571+210.21141783j   11.19674759-291.54755588j\n",
      " -130.43142863+128.34835799j  158.4143133  +82.78387807j\n",
      "  197.59436995 -21.35672947j  -41.51360019-153.91195478j\n",
      "  -14.02800582+122.42881321j  182.01266545 +55.08180609j\n",
      "  129.39340316 -33.10128361j  -50.867206   -86.11208221j\n",
      "   10.82337663+121.35945311j  197.9162918  +13.43369511j\n",
      "   35.21274968 -86.11716549j   -7.50912233 +32.86937798j\n",
      "   92.10897503 +37.60755811j  108.92241425 -16.85651166j\n",
      "   13.86230672 +10.70209668j   40.88494002 -18.03854216j\n",
      "  104.77387202 -14.9342325j    31.9101454  -15.35228963j\n",
      "  108.237649   +69.22204628j   66.51243003 -49.22371074j\n",
      "   31.5563645  -41.18862512j   60.84043419 +83.57326822j\n",
      "  113.05590193  +7.0870715j    50.58237652 -68.00398393j\n",
      "   10.70503841  +6.48894595j   57.30246538 +64.76766134j\n",
      "  167.2874705  -46.40567514j   19.28156844 -54.87318677j\n",
      "   18.07395506 +58.98989304j  130.5262928  +64.29938759j\n",
      "   80.80364927 -72.79622422j  -26.11433756  -2.50720376j\n",
      "   82.67697924 +47.8141977j   104.11174306 -14.61598877j\n",
      "   50.42304401 -57.67246122j   17.52658502 +27.79930298j\n",
      "  131.91417791 +25.17331645j   81.75768498 -42.97761665j\n",
      "   26.7875262   +7.11547255j   27.99864111 +90.57264959j\n",
      "  140.43172142 -54.94621621j   -2.69854031 -73.7972749j\n",
      "   59.45835262 +50.38392957j  102.45821315 +83.77694945j\n",
      "   87.70116318-109.59446881j   -8.58822298 -22.36223144j]\n"
     ]
    }
   ],
   "source": [
    "# Apply Fourier transform\n",
    "\n",
    "x_train_extracted = np.zeros(shape=(train_size, 10))\n",
    "\n",
    "image = cv2.imread('image.jpg', 0)\n",
    "\n",
    "f = np.fft.fft(X_train[1])\n",
    "fshift = np.fft.fftshift(f)\n",
    "\n",
    "print(f[:50])\n",
    "print(fshift[:50])\n",
    "\n",
    "\n",
    "magnitude_spectrum = 20*np.log(np.abs(fshift))\n",
    "    \n",
    "\n",
    "# print(x_train_extracted)\n"
   ]
  },
  {
   "cell_type": "code",
   "execution_count": null,
   "id": "1201a14d",
   "metadata": {},
   "outputs": [],
   "source": []
  }
 ],
 "metadata": {
  "kernelspec": {
   "display_name": "Python 3 (ipykernel)",
   "language": "python",
   "name": "python3"
  },
  "language_info": {
   "codemirror_mode": {
    "name": "ipython",
    "version": 3
   },
   "file_extension": ".py",
   "mimetype": "text/x-python",
   "name": "python",
   "nbconvert_exporter": "python",
   "pygments_lexer": "ipython3",
   "version": "3.9.13"
  }
 },
 "nbformat": 4,
 "nbformat_minor": 5
}
