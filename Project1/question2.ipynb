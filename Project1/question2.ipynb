{
 "cells": [
  {
   "cell_type": "markdown",
   "id": "34da147f",
   "metadata": {},
   "source": [
    "__(a)__ Below you can find the function to convert the images into grayscaled and flattened vectors with the help of Pillow library. Later we will use this function to convert the images in the _3dshapes_train_ and _3dshapes_test_."
   ]
  },
  {
   "cell_type": "code",
   "execution_count": 1,
   "id": "d63ec8d3",
   "metadata": {
    "scrolled": false
   },
   "outputs": [],
   "source": [
    "import numpy as np\n",
    "from PIL import Image       \n",
    "import math\n",
    "\n",
    "y_train = np.load(\"orientations_train.npy\")\n",
    "\n",
    "train_size = 10000\n",
    "image_length = 4096\n",
    "\n",
    "def vectorize_images(filename, data_size):\n",
    "    # vectorized 10000 images\n",
    "    X = np.empty(shape=(data_size, image_length))\n",
    "\n",
    "    for i in range(data_size):\n",
    "        img_rgb = Image.open(\"{filename}/{i}.jpg\".format(filename = filename, i = i))\n",
    "        img_gray = img_rgb.convert('L')\n",
    "\n",
    "        np_img = np.array(img_gray)\n",
    "        X[i] = np_img.flatten()\n",
    "        \n",
    "    return X\n",
    "\n",
    "X_train = vectorize_images(\"3dshapes_train\" ,train_size)\n",
    "    "
   ]
  },
  {
   "cell_type": "markdown",
   "id": "cbfb56c7",
   "metadata": {},
   "source": [
    "__(b)__ In order to find the optimal weight vector coefficients, we set the gradient of the least square error function to 0. The closed-form solution we obtain is as follows: <br>\n",
    "\n",
    "$ \\mathbf{w}^* = {({X}^\\intercal X)}^{-1}{X}^\\intercal \\mathbf{t} $ <br>\n",
    "\n",
    "Below we implemented the function to calculate the optimal weights and used it to train the model. <br> <br>\n",
    "To test our model we first generated our predictions using the formula: $ \\hat{y} = Xw = X{({X}^\\intercal X)}^{-1}{X}^\\intercal \\mathbf{t} $ and then compared it with the actual labels."
   ]
  },
  {
   "cell_type": "code",
   "execution_count": 2,
   "id": "659bfc98",
   "metadata": {},
   "outputs": [],
   "source": [
    "# computing the optimal parameters by minimizing the least squares error function\n",
    "def linear_regression(X, y):\n",
    "    return np.linalg.pinv(X.T @ X) @ X.T @ y\n",
    "\n",
    "w = linear_regression(X_train, y_train)"
   ]
  },
  {
   "cell_type": "code",
   "execution_count": 5,
   "id": "f7bb3b85",
   "metadata": {},
   "outputs": [
    {
     "name": "stdout",
     "output_type": "stream",
     "text": [
      "Root Mean Square Error is: 0.23033949408208762\n"
     ]
    }
   ],
   "source": [
    "y_test = np.load(\"orientations_test.npy\")\n",
    "\n",
    "test_size = 1000\n",
    "\n",
    "X_test = vectorize_images(\"3dshapes_test\" ,test_size)\n",
    "y_prediction = X_test @ w\n",
    "\n",
    "RMSE = math.sqrt(np.square(np.subtract(y_test, y_prediction)).mean()) \n",
    "\n",
    "print(f\"Root Mean Square Error is: {RMSE}\")\n"
   ]
  },
  {
   "cell_type": "code",
   "execution_count": null,
   "id": "1201a14d",
   "metadata": {},
   "outputs": [],
   "source": []
  }
 ],
 "metadata": {
  "kernelspec": {
   "display_name": "Python 3 (ipykernel)",
   "language": "python",
   "name": "python3"
  },
  "language_info": {
   "codemirror_mode": {
    "name": "ipython",
    "version": 3
   },
   "file_extension": ".py",
   "mimetype": "text/x-python",
   "name": "python",
   "nbconvert_exporter": "python",
   "pygments_lexer": "ipython3",
   "version": "3.11.2"
  }
 },
 "nbformat": 4,
 "nbformat_minor": 5
}
